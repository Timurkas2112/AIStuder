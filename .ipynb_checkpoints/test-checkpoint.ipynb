{
 "cells": [
  {
   "cell_type": "code",
   "execution_count": 1,
   "id": "5a55d5139408994f",
   "metadata": {
    "ExecuteTime": {
     "end_time": "2024-11-19T13:16:57.110526Z",
     "start_time": "2024-11-19T13:16:45.536580Z"
    }
   },
   "outputs": [],
   "source": [
    "!pip install groq"
   ]
  },
  {
   "cell_type": "code",
   "execution_count": 2,
   "id": "59273643b64c4317",
   "metadata": {
    "ExecuteTime": {
     "end_time": "2024-11-19T13:16:58.321116Z",
     "start_time": "2024-11-19T13:16:57.118777Z"
    }
   },
   "outputs": [],
   "source": [
    "from groq import Groq\n",
    "import os\n",
    "import datetime\n",
    "from datetime import date, timedelta"
   ]
  },
  {
   "cell_type": "code",
   "execution_count": null,
   "id": "ac475f1e3d4a17b8",
   "metadata": {
    "ExecuteTime": {
     "end_time": "2024-11-19T13:17:01.153849Z",
     "start_time": "2024-11-19T13:17:01.040899Z"
    }
   },
   "outputs": [],
   "source": [
    "client = Groq(\n",
    "    api_key=\"\",\n",
    ")"
   ]
  },
  {
   "cell_type": "code",
   "execution_count": 4,
   "id": "d9e6eaef9304ae88",
   "metadata": {
    "ExecuteTime": {
     "end_time": "2024-11-19T13:17:07.140845Z",
     "start_time": "2024-11-19T13:17:07.130197Z"
    }
   },
   "outputs": [],
   "source": [
    "def generate_materials(topic):\n",
    "    prompt = f\"Создай содержание книги (chapter, title) для книги по теме '{topic}' на русском языке и отправь это в виде массива\"\n",
    "    messages=[\n",
    "            {\"role\": \"user\", \"content\": prompt}\n",
    "        ]\n",
    "    completion = client.chat.completions.create(\n",
    "        model=\"llama3-70b-8192\",\n",
    "        messages=messages,\n",
    "        temperature=1,\n",
    "        max_tokens=2048,\n",
    "        top_p=1,\n",
    "        stream=False,\n",
    "        stop=None,)\n",
    "    return completion.choices[0].message.content"
   ]
  },
  {
   "cell_type": "code",
   "execution_count": 6,
   "id": "c5c9fa3927b81689",
   "metadata": {
    "ExecuteTime": {
     "end_time": "2024-11-19T13:17:49.272533Z",
     "start_time": "2024-11-19T13:17:48.932483Z"
    }
   },
   "outputs": [],
   "source": [
    "materials = generate_materials('основы программирования в python')"
   ]
  },
  {
   "cell_type": "code",
   "execution_count": null,
   "id": "cf6cfd425e083e43",
   "metadata": {},
   "outputs": [],
   "source": []
  }
 ],
 "metadata": {
  "kernelspec": {
   "display_name": "Python 3",
   "language": "python",
   "name": "python3"
  },
  "language_info": {
   "codemirror_mode": {
    "name": "ipython",
    "version": 2
   },
   "file_extension": ".py",
   "mimetype": "text/x-python",
   "name": "python",
   "nbconvert_exporter": "python",
   "pygments_lexer": "ipython2",
   "version": "2.7.6"
  }
 },
 "nbformat": 4,
 "nbformat_minor": 5
}
